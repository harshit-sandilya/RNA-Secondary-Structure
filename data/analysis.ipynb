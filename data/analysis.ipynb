{
 "cells": [
  {
   "cell_type": "code",
   "execution_count": 3,
   "metadata": {},
   "outputs": [],
   "source": [
    "import pandas as pd\n",
    "\n",
    "df = pd.read_csv('./data/final/train.csv')"
   ]
  },
  {
   "cell_type": "code",
   "execution_count": 4,
   "metadata": {},
   "outputs": [
    {
     "data": {
      "text/html": [
       "<div>\n",
       "<style scoped>\n",
       "    .dataframe tbody tr th:only-of-type {\n",
       "        vertical-align: middle;\n",
       "    }\n",
       "\n",
       "    .dataframe tbody tr th {\n",
       "        vertical-align: top;\n",
       "    }\n",
       "\n",
       "    .dataframe thead th {\n",
       "        text-align: right;\n",
       "    }\n",
       "</style>\n",
       "<table border=\"1\" class=\"dataframe\">\n",
       "  <thead>\n",
       "    <tr style=\"text-align: right;\">\n",
       "      <th></th>\n",
       "      <th>RNA_id</th>\n",
       "      <th>sequence</th>\n",
       "      <th>structure</th>\n",
       "      <th>length</th>\n",
       "      <th>source</th>\n",
       "    </tr>\n",
       "  </thead>\n",
       "  <tbody>\n",
       "    <tr>\n",
       "      <th>0</th>\n",
       "      <td>bpRNA_CRW_33063</td>\n",
       "      <td>GCGGGUGUAGCUCAGUGGUAGAGCAUCACGUUGCCAACGUGAGAGU...</td>\n",
       "      <td>(((((((..((((.......))))((((((.......))))))......</td>\n",
       "      <td>72</td>\n",
       "      <td>bpRNA</td>\n",
       "    </tr>\n",
       "    <tr>\n",
       "      <th>1</th>\n",
       "      <td>bpRNA_CRW_33870</td>\n",
       "      <td>GCGCUAGUGGUUUAGUGGUAAAAUCUCAGUUUCCCAUACUGAGGCC...</td>\n",
       "      <td>(((((((..((((.......))))((((((.......))))))......</td>\n",
       "      <td>71</td>\n",
       "      <td>bpRNA</td>\n",
       "    </tr>\n",
       "    <tr>\n",
       "      <th>2</th>\n",
       "      <td>bpRNA_CRW_8901</td>\n",
       "      <td>UAAUACAUGCAAGUCGAGCGGACUGAUGGGAGCUUGCUCCCUGAKG...</td>\n",
       "      <td>...(((.(((..(((..((((((....(((((....)))))....)...</td>\n",
       "      <td>1465</td>\n",
       "      <td>bpRNA</td>\n",
       "    </tr>\n",
       "    <tr>\n",
       "      <th>3</th>\n",
       "      <td>bpRNA_CRW_42213</td>\n",
       "      <td>GGGUUCUUAGCUCAGUUGGUAGAGCAGCGGACUCUUAAUCCGUAGG...</td>\n",
       "      <td>(((((((..((((........))))((((((.......)))))).....</td>\n",
       "      <td>76</td>\n",
       "      <td>bpRNA</td>\n",
       "    </tr>\n",
       "    <tr>\n",
       "      <th>4</th>\n",
       "      <td>bpRNA_CRW_5934</td>\n",
       "      <td>GUGCUUAACACAUGCAAGUCGAGCGCCCCGCAAGGGGAGCGGCAGA...</td>\n",
       "      <td>((((....(((.(((..(((..(((((((....))))))))))......</td>\n",
       "      <td>1400</td>\n",
       "      <td>bpRNA</td>\n",
       "    </tr>\n",
       "  </tbody>\n",
       "</table>\n",
       "</div>"
      ],
      "text/plain": [
       "            RNA_id                                           sequence  \\\n",
       "0  bpRNA_CRW_33063  GCGGGUGUAGCUCAGUGGUAGAGCAUCACGUUGCCAACGUGAGAGU...   \n",
       "1  bpRNA_CRW_33870  GCGCUAGUGGUUUAGUGGUAAAAUCUCAGUUUCCCAUACUGAGGCC...   \n",
       "2   bpRNA_CRW_8901  UAAUACAUGCAAGUCGAGCGGACUGAUGGGAGCUUGCUCCCUGAKG...   \n",
       "3  bpRNA_CRW_42213  GGGUUCUUAGCUCAGUUGGUAGAGCAGCGGACUCUUAAUCCGUAGG...   \n",
       "4   bpRNA_CRW_5934  GUGCUUAACACAUGCAAGUCGAGCGCCCCGCAAGGGGAGCGGCAGA...   \n",
       "\n",
       "                                           structure  length source  \n",
       "0  (((((((..((((.......))))((((((.......))))))......      72  bpRNA  \n",
       "1  (((((((..((((.......))))((((((.......))))))......      71  bpRNA  \n",
       "2  ...(((.(((..(((..((((((....(((((....)))))....)...    1465  bpRNA  \n",
       "3  (((((((..((((........))))((((((.......)))))).....      76  bpRNA  \n",
       "4  ((((....(((.(((..(((..(((((((....))))))))))......    1400  bpRNA  "
      ]
     },
     "execution_count": 4,
     "metadata": {},
     "output_type": "execute_result"
    }
   ],
   "source": [
    "df.head()"
   ]
  },
  {
   "cell_type": "code",
   "execution_count": 5,
   "metadata": {},
   "outputs": [],
   "source": [
    "df = df['sequence'].values"
   ]
  },
  {
   "cell_type": "code",
   "execution_count": 6,
   "metadata": {},
   "outputs": [
    {
     "data": {
      "text/plain": [
       "array(['GCGGGUGUAGCUCAGUGGUAGAGCAUCACGUUGCCAACGUGAGAGUCGUGAGUUCGAAUCUCAUCACCCGCU',\n",
       "       'GCGCUAGUGGUUUAGUGGUAAAAUCUCAGUUUCCCAUACUGAGGCCCCGGGUUCGAUUCCCGGCUGGCGCA',\n",
       "       'UAAUACAUGCAAGUCGAGCGGACUGAUGGGAGCUUGCUCCCUGAKGUUAGCGGCGGACGGGUGAGUAACACGUGGGCAACCUGCCUGUAAGACUGGGAUAACUCCGGGAAACCGGGGCUAAUACCGGAUAACCCGUUCCACCUCAUGGUGGAGCGGUAAAAGAUGGCCUCUGGCUAUCACUUACAGAUGGGCCCGCGGCGCAUUAGCUAGUUGGUAAGGUAACGGCUUACCAAGGCGACGAUGCGUAGCCGACCUGAGAGGGUGAUCGGCCACACUGGGACUGAGACACGGCCCAGACUCCUACGGGAGGCAGCAGUAGGGAAUCUUCCGCAAUGGACGAAAGUCUGACGGAGCAACGCCGCGUGAGUGAUGAAGGUUUUCGGAUCGUAAAGCUCUGUUGUUAGGGAAGAACAAGUGCCGUUUGAAUAAGGCGGCACCUUGACGGUACCUAACCAGAAAGCCACGGCUAACUACGUGCCAGCAGCCGCGGUAAUACGUAGGUGGCAAGCGUUGUCCGGAAUUAUUGGGCGUAAAGCGCGCGCAGGCGGUCUCUUAAGUCUGAUGUGAAAGCCCACGGCUCAACCGUGGAGGGUCAUUGGAAACUGGGAGACUUGAGUACAGAAGAGGAGAGUGGAAUUCCACGUGUAGCGGUGAAAUGCGUAGAUAUGUGGAGGAACACCAGUGGCGAAGGCGACUCUCUGGUCUGUAACUGACGCUGAGGCGCGAAAGCGUGGGGAGCAAACAGGAUUAGAUACCCUGGUAGUCCACGCCGUAAACGAUGAGUGCUAGGUGUUAGGGGUUUCGAUGCCCUUAGUGCCGAAGUUAACACAUUAAGCACUCCGCCUGGGGAGUACGACCGCAAGGUUGAAACUCAAAGGAAUUGACGGGGGCCCGCACAAGCAGUGGAGCAUGUGGUUUAAUUCGAAGCAACGCGAAGAACCUUACCAGGUCUUGACAUCCUUUGACCACUCUAGAGAUAGAGCUUUCCCCUUCGGGGGACAAAGUGACAGGUGGUGCAUGGUUGUCGUCAGCUCGUGUCGUGAGAUGUUGGGUUAAGUCCCGCAACGAGCGCAACCCUUGAUCUUAGUUGCCAGCAUUCAGUUGGGCACUCUAAGGUGACUGCCGGUGACAAACCGGAGGAAGGUGGGGAUGACGUCAAAUCAUCAUGCCCCUUAUGACCUGGGCUACACACGUGCUACAAUGGAUGGUACAAAGGGCUGCAAAACCGCGAGGUUGAGCGAAUCCCAUAAAGCCAUUCUCAGUUCGGAUUGUAGGCUGCAACUCGCCUACAUGAAGCCGGAAUUGCUAGUAAUCGCGGAUCAGCAUGCCGCGGUGAAUACGUUCCCGGGCCUUGUACACACCGCCCGUCACACCACGAGAGUUUGUAACACCCGAAGUCGGUGAGGUAACCUUUUGGAGCCAGCCGCCUAAGGUGGGACAGAUGAUUGGGGUGAAGUCGUAACAA',\n",
       "       ...,\n",
       "       'GGGCUCGUAGCUCAGCGGGAGAGCGCCGCCUUUGCGAGGCGGAGGCCGCGGGUUCAAAUCCCGCCGAGUCCACCA',\n",
       "       'GUAUGGUUAACCCGCAGACGAUCGAAAGGGAUGUGGAUGAAAGCCUAAGCCG',\n",
       "       'GGGCCCGUGGUCUAGUUGGUCAUGACGCCGCCCUUACGAGGCGGAGGUCCGGGGUUCAAGUCCCCGCGGGCCCACCA'],\n",
       "      dtype=object)"
      ]
     },
     "execution_count": 6,
     "metadata": {},
     "output_type": "execute_result"
    }
   ],
   "source": [
    "df"
   ]
  },
  {
   "cell_type": "code",
   "execution_count": 8,
   "metadata": {},
   "outputs": [],
   "source": [
    "ranges = [100, 200, 300, 400, 500, 600, 700, 800, 900, 1000]\n",
    "counts = [0, 0, 0, 0, 0, 0, 0, 0, 0, 0]\n",
    "for i in ranges:\n",
    "    for j in df:\n",
    "        if len(j) <= i:\n",
    "            counts[ranges.index(i)] += 1"
   ]
  },
  {
   "cell_type": "code",
   "execution_count": 10,
   "metadata": {},
   "outputs": [],
   "source": [
    "counts = [ i- j for i, j in zip(counts, [0] + counts[:-1])]"
   ]
  },
  {
   "cell_type": "code",
   "execution_count": 11,
   "metadata": {},
   "outputs": [
    {
     "data": {
      "text/plain": [
       "[30440, 16008, 2737, 2589, 1091, 836, 464, 660, 724, 390]"
      ]
     },
     "execution_count": 11,
     "metadata": {},
     "output_type": "execute_result"
    }
   ],
   "source": [
    "counts"
   ]
  },
  {
   "cell_type": "code",
   "execution_count": 12,
   "metadata": {},
   "outputs": [],
   "source": [
    "ranges = [10, 20, 30, 40, 50, 60, 70, 80, 90, 100]\n",
    "counts = [0, 0, 0, 0, 0, 0, 0, 0, 0, 0]\n",
    "for i in ranges:\n",
    "    for j in df:\n",
    "        if len(j) <= i:\n",
    "            counts[ranges.index(i)] += 1"
   ]
  },
  {
   "cell_type": "code",
   "execution_count": 13,
   "metadata": {},
   "outputs": [],
   "source": [
    "counts = [i - j for i, j in zip(counts, [0] + counts[:-1])]"
   ]
  },
  {
   "cell_type": "code",
   "execution_count": 14,
   "metadata": {},
   "outputs": [
    {
     "data": {
      "text/plain": [
       "[57, 436, 711, 1243, 1238, 2523, 3396, 12414, 4436, 3986]"
      ]
     },
     "execution_count": 14,
     "metadata": {},
     "output_type": "execute_result"
    }
   ],
   "source": [
    "counts"
   ]
  },
  {
   "cell_type": "code",
   "execution_count": null,
   "metadata": {},
   "outputs": [],
   "source": []
  }
 ],
 "metadata": {
  "kernelspec": {
   "display_name": "rna_dl",
   "language": "python",
   "name": "python3"
  },
  "language_info": {
   "codemirror_mode": {
    "name": "ipython",
    "version": 3
   },
   "file_extension": ".py",
   "mimetype": "text/x-python",
   "name": "python",
   "nbconvert_exporter": "python",
   "pygments_lexer": "ipython3",
   "version": "3.12.4"
  }
 },
 "nbformat": 4,
 "nbformat_minor": 2
}
